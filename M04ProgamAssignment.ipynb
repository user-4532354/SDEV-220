{
  "metadata": {
    "kernelspec": {
      "name": "python",
      "display_name": "Python (Pyodide)",
      "language": "python"
    },
    "language_info": {
      "codemirror_mode": {
        "name": "python",
        "version": 3
      },
      "file_extension": ".py",
      "mimetype": "text/x-python",
      "name": "python",
      "nbconvert_exporter": "python",
      "pygments_lexer": "ipython3",
      "version": "3.8"
    }
  },
  "nbformat_minor": 4,
  "nbformat": 4,
  "cells": [
    {
      "cell_type": "code",
      "source": "#Nailah Pierre\n#4/15/24\n#M04 Programming Assignment - Modules and Databases\n\n\n#code for 11.1\nfrom zoo import hours\nprint(hours())\n\n#code for 11.2\nimport zoo as mangerie\nprint(mangerie.hours())\n\n\n#code for 16.8\nimport books\nimport SQLAlchemy\n\nf = open(\"books.db\", \"r\")\nprint(f.read(title))\n",
      "metadata": {
        "trusted": true
      },
      "outputs": [],
      "execution_count": null
    },
    {
      "cell_type": "code",
      "source": "",
      "metadata": {
        "trusted": true
      },
      "outputs": [],
      "execution_count": null
    }
  ]
}