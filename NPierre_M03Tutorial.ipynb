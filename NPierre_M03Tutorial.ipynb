{
  "metadata": {
    "kernelspec": {
      "name": "python",
      "display_name": "Python (Pyodide)",
      "language": "python"
    },
    "language_info": {
      "codemirror_mode": {
        "name": "python",
        "version": 3
      },
      "file_extension": ".py",
      "mimetype": "text/x-python",
      "name": "python",
      "nbconvert_exporter": "python",
      "pygments_lexer": "ipython3",
      "version": "3.8"
    }
  },
  "nbformat_minor": 4,
  "nbformat": 4,
  "cells": [
    {
      "cell_type": "code",
      "source": "#User function Template for python3\n#Nailah Pierre\n#4/6/24\n\n#for the Sort an Array asssignment\nclass Solution:\n    def sort012(self,arr,n):\n        # code here\n        low = 0\n        high = n - 1\n        mid = 0\n        while mid<=high:\n            \n            if arr[mid]==0:\n                arr[mid] , arr[low] = arr[low] , arr[mid]\n                mid+=1\n                low+=1\n                \n            elif arr[mid]==1:\n                mid+=1\n            else:\n                arr[mid] , arr[high] = arr[high] , arr[mid]\n                high-=1\n        \n\n",
      "metadata": {
        "trusted": true
      },
      "outputs": [],
      "execution_count": 9
    },
    {
      "cell_type": "code",
      "source": "#for the Python lambda\n\nclass Solution:\n    \n    def binary_search(self, arr, n, k):\n        low = 0\n        high = n - 1\n        while low <= high:\n            mid = (low + high) // 2\n            if arr[mid] == k:\n                return mid\n            elif arr[mid] < k:\n                low = mid + 1\n            else:\n                high = mid - 1\n        return -1\n\n",
      "metadata": {
        "trusted": true
      },
      "outputs": [],
      "execution_count": null
    },
    {
      "cell_type": "code",
      "source": "",
      "metadata": {
        "trusted": true
      },
      "outputs": [],
      "execution_count": null
    }
  ]
}