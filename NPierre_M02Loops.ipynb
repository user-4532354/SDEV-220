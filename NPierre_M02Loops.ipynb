{
  "metadata": {
    "kernelspec": {
      "name": "python",
      "display_name": "Python (Pyodide)",
      "language": "python"
    },
    "language_info": {
      "codemirror_mode": {
        "name": "python",
        "version": 3
      },
      "file_extension": ".py",
      "mimetype": "text/x-python",
      "name": "python",
      "nbconvert_exporter": "python",
      "pygments_lexer": "ipython3",
      "version": "3.8"
    }
  },
  "nbformat_minor": 4,
  "nbformat": 4,
  "cells": [
    {
      "cell_type": "code",
      "source": "#Nailah Pierre\n#3/29/24\n#M02 Programming Assignment - Loops and Conditionals\n\nsecret = 9        #code for 4.1\nguess = 4         \n\nif guess < secret:   #this code evaluates the variables secret\n    print(\"too low\")  # and guess to see whether the two are\nelif guess > secret:  # greater than, equal to, or lesser than the other\n    print(\"too high\")\nelse:\n    if guess == secret:\n        print(\"just right\")    \n",
      "metadata": {
        "trusted": true
      },
      "outputs": [
        {
          "name": "stdout",
          "text": "too low\n",
          "output_type": "stream"
        }
      ],
      "execution_count": 3
    },
    {
      "cell_type": "code",
      "source": "small = True        #code for 4.2\ngreen = False\n\nif small == True:           #matched the choices with the variables\n    print(\"cherry, pea\")\n    if green == False:\n        print(\"watermelon, pea\")\n    else: \n        print(\"pumpkin\")",
      "metadata": {
        "trusted": true
      },
      "outputs": [
        {
          "name": "stdout",
          "text": "cherry, pea\nwatermelon, pea\n",
          "output_type": "stream"
        }
      ],
      "execution_count": 7
    },
    {
      "cell_type": "code",
      "source": "list = [3, 2, 1, 0]     #code for 6.1; code prints the numbers in the list using a for loop\nfor number in list:\n    print(list)\n",
      "metadata": {
        "trusted": true
      },
      "outputs": [
        {
          "name": "stdout",
          "text": "[3, 2, 1, 0]\n[3, 2, 1, 0]\n[3, 2, 1, 0]\n[3, 2, 1, 0]\n",
          "output_type": "stream"
        }
      ],
      "execution_count": 10
    },
    {
      "cell_type": "code",
      "source": "guess_me = 7       #code of 6.2\nnumber = 1\nwhile number < guess_me:    #this code evaluates the variables number and guess_me\n    print(\"too low\")        #to see whether the two are greater than, equal to, or lesser than the other\n    number += 1             # the loop then increments number at the end \nelse: \n    if number > guess_me:\n        print(\"oops\")\n    else:\n        if number == guess_me:\n            print(\"found it\")\n",
      "metadata": {
        "trusted": true
      },
      "outputs": [
        {
          "name": "stdout",
          "text": "too low\ntoo low\ntoo low\ntoo low\ntoo low\ntoo low\nfound it\n",
          "output_type": "stream"
        }
      ],
      "execution_count": 2
    },
    {
      "cell_type": "code",
      "source": "guess_me = 5                 #code for 6.3\nfor number in range(10):\n    if number < guess_me:    #this code compare the guess_me variable to number in a range\n        print(\"too low\")     # of 10 and compares the two \n    else: \n        if number > guess_me:\n            print(\"oops\")\n        else:\n            if number == guess_me:\n                print(\"found it\")",
      "metadata": {
        "trusted": true
      },
      "outputs": [
        {
          "name": "stdout",
          "text": "too low\ntoo low\ntoo low\ntoo low\ntoo low\nfound it\noops\noops\noops\noops\n",
          "output_type": "stream"
        }
      ],
      "execution_count": 3
    },
    {
      "cell_type": "code",
      "source": "",
      "metadata": {
        "trusted": true
      },
      "outputs": [],
      "execution_count": null
    }
  ]
}