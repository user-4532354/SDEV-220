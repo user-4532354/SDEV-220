{
  "metadata": {
    "kernelspec": {
      "name": "python",
      "display_name": "Python (Pyodide)",
      "language": "python"
    },
    "language_info": {
      "codemirror_mode": {
        "name": "python",
        "version": 3
      },
      "file_extension": ".py",
      "mimetype": "text/x-python",
      "name": "python",
      "nbconvert_exporter": "python",
      "pygments_lexer": "ipython3",
      "version": "3.8"
    }
  },
  "nbformat_minor": 4,
  "nbformat": 4,
  "cells": [
    {
      "cell_type": "code",
      "source": "#Nailah Pierre\n#M06 Programming Assignment -Concurrency in Python\n#4/24/24\n#code for 13.1-13.3\n\nwith open('today.txt', 'r') as file: #code for 13.2, this opens the today.txt file that has the date written in\n  today_string = file.readline() \n\nprint(today_string)",
      "metadata": {
        "trusted": true
      },
      "outputs": [
        {
          "name": "stdout",
          "text": "4/24/2024 \n",
          "output_type": "stream"
        }
      ],
      "execution_count": 4
    },
    {
      "cell_type": "code",
      "source": "#code for 15.1\nimport multiprocessing\nimport time\nimport random\n\ndef current_time(*args, **kwargs): #the function that prints the time, had to add arguments for it to work\n    nows_time = time.time() \n    print(\"Current time: \", time.ctime()) \nwhile True:\n  if __name__ == \"__main__\":\n      current_time()\n      ct = multiprocessing.Process(target=current_time, args=(\"current_time\",))\n      ct.start()\n      time.sleep(random.randint(0, 1))\n  break",
      "metadata": {
        "trusted": true
      },
      "outputs": [],
      "execution_count": null
    }
  ]
}