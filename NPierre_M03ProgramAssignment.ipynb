{
  "metadata": {
    "kernelspec": {
      "name": "python",
      "display_name": "Python (Pyodide)",
      "language": "python"
    },
    "language_info": {
      "codemirror_mode": {
        "name": "python",
        "version": 3
      },
      "file_extension": ".py",
      "mimetype": "text/x-python",
      "name": "python",
      "nbconvert_exporter": "python",
      "pygments_lexer": "ipython3",
      "version": "3.8"
    }
  },
  "nbformat_minor": 4,
  "nbformat": 4,
  "cells": [
    {
      "cell_type": "code",
      "source": "#Nailah Pierre\n#4/2/2024\n\nthings = [\"mozzarella\", \"cinderella\", \"salmonella\"] #code for 7.4; i just made the list\n\nthings.pop(1) # this removes cinderella\nthings.insert(1, \"Cinderella\") # this adds the capitalized cinderella to the list\nprint(things) #code for 7.5; it did change the element\n\nthings.pop(0) # this removes mozzarella\nthings.insert(0, \"MOZARELLA\") # this replaces mozzarella with the capitalized mozzarella\nprint(things) #code for 7.6\n\n\nthings.pop(2) # this removes salmonella\nprint(things) #code for 7.7\n\n\ndef good(name=None): #code for 9.1\n  if name is None: # name is set to none so that it can be used to add the names into the list\n      name = []\n  name.append('Harry, Ron, Hermione') # this adds the names into the list\n  return name\n\n\n\n\ndef get_odds(number): #code for 9.2\n  for number in range(10): \n    if number % 3 == 0:\n      print(number)#this will print the odd numbers for every number in range 0 - 10\n      \nget_odds(1) # this runs the code\n\n\n",
      "metadata": {
        "trusted": true
      },
      "outputs": [
        {
          "name": "stdout",
          "text": "['mozzarella', 'Cinderella', 'salmonella']\n['MOZARELLA', 'Cinderella', 'salmonella']\n['MOZARELLA', 'Cinderella']\n0\n3\n6\n9\n",
          "output_type": "stream"
        }
      ],
      "execution_count": 1
    },
    {
      "cell_type": "code",
      "source": "",
      "metadata": {
        "trusted": true
      },
      "outputs": [],
      "execution_count": null
    }
  ]
}